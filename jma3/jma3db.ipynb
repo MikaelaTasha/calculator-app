{
 "cells": [
  {
   "cell_type": "code",
   "execution_count": 2,
   "metadata": {},
   "outputs": [],
   "source": [
    "import requests\n",
    "import sqlite3\n",
    "import json\n",
    "\n",
    "# SQLiteに接続\n",
    "conn = sqlite3.connect('weather_app.db')\n",
    "cursor = conn.cursor()\n",
    "\n",
    "# テーブル作成 (Areas)\n",
    "cursor.execute('''\n",
    "CREATE TABLE IF NOT EXISTS Areas (\n",
    "    area_id INTEGER PRIMARY KEY AUTOINCREMENT,\n",
    "    area_code TEXT UNIQUE,\n",
    "    area_name TEXT,\n",
    "    region_name TEXT\n",
    ")\n",
    "''')\n",
    "\n",
    "# APIからエリア情報を取得\n",
    "area_url = \"http://www.jma.go.jp/bosai/common/const/area.json\"\n",
    "response = requests.get(area_url)\n",
    "areas = response.json()\n",
    "\n",
    "# データを挿入\n",
    "for area_code, data in areas['offices'].items():\n",
    "    cursor.execute('''\n",
    "        INSERT OR IGNORE INTO Areas (area_code, area_name, region_name)\n",
    "        VALUES (?, ?, ?)\n",
    "    ''', (area_code, data['name'], data['parent']))\n",
    "\n",
    "conn.commit()\n",
    "conn.close()\n"
   ]
  }
 ],
 "metadata": {
  "kernelspec": {
   "display_name": ".venv",
   "language": "python",
   "name": "python3"
  },
  "language_info": {
   "codemirror_mode": {
    "name": "ipython",
    "version": 3
   },
   "file_extension": ".py",
   "mimetype": "text/x-python",
   "name": "python",
   "nbconvert_exporter": "python",
   "pygments_lexer": "ipython3",
   "version": "3.12.7"
  }
 },
 "nbformat": 4,
 "nbformat_minor": 2
}
